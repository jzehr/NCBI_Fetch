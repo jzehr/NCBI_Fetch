{
 "cells": [
  {
   "cell_type": "markdown",
   "metadata": {},
   "source": [
    "# Use non-human organismal FASTA file to find human homologs on NCBI BLAST.\n",
    "This is a neat little program that will read in a fasta file from a non-human organism, and use the gene sequences in the fasta file to search NCBI for human homologs. \n",
    "\n",
    "This does require that the fasta file contain genes, however, if you modify the Human_Disease_Gene_Extraction_NCBI ipython notebook you can create your own fasta file with the coding regions of genes.\n",
    "\n",
    "Or you could use Bioconductor.\n",
    "\n",
    "I am going to use a fasta file from a Goat, that was given to me as an example."
   ]
  },
  {
   "cell_type": "markdown",
   "metadata": {},
   "source": [
    "#### As always, we start with our imports. We have a few more than usual but they will all come in handy. "
   ]
  },
  {
   "cell_type": "code",
   "execution_count": null,
   "metadata": {},
   "outputs": [],
   "source": [
    "from Bio import SeqIO\n",
    "from Bio.Blast import NCBIWWW\n",
    "from Bio.Blast import NCBIXML\n",
    "import time\n",
    "from urllib3.exceptions import HTTPError"
   ]
  },
  {
   "cell_type": "markdown",
   "metadata": {},
   "source": [
    "#### This is a nice little loop that will read in our fasta file, and use the SeqIO.parse to grab all the headers and sequences from our fasta file. \n",
    "We did have to use the .split function on our header in order to append ONLY the GI number in the header"
   ]
  },
  {
   "cell_type": "code",
   "execution_count": null,
   "metadata": {},
   "outputs": [],
   "source": [
    "header = []\n",
    "sequence = []\n",
    "for record in SeqIO.parse(\"ch_ests_18.fasta\", \"fasta\"):\n",
    "    header.append(record.id.split(\"|\")[1])\n",
    "    sequence.append(record.seq)\n"
   ]
  },
  {
   "cell_type": "markdown",
   "metadata": {},
   "source": [
    "#### It is import to note that you can blast the GI number in the header OR the actual sequence itself in the next section. I am choosing to use the GI number in this example."
   ]
  },
  {
   "cell_type": "markdown",
   "metadata": {},
   "source": [
    "#### The meat and potatoes\n",
    "Ok so here is a for loop that will use our 'header' list to blast and find human homologs (remember our fasta file contains gene sequences from a goat). So we say for h in header range 0 to 9 (python in not inclusive, as in it will start at 0 and stop at 10 but not perform a task on the 10th element).\n",
    "\n",
    "We use the'try' logic here which is useful becasue every now and then your program will stall out if the sequence is taking too long to blast. For that reason, we will use an 'except' statement when this HTTPError occurs. Getting back to the logic in the 'try' block we start by printing which element we are blasting, this is more for a sanity check than functionality. This program takes a while to run and personally I do not like looking at a blank screen with no feedback about how my program is running. Next we will start a timer, this will come in handy later. This blast_result_handle variable utilizes the NCBIWWW.qblast function with the inputs, we want to use the blastx program, refseq protein database, and we use our list to iterate for the sequence, and lastly we use the human txid id for the entrez_query (if you wanted to blast for homologs in dogs you would change this input). You can find more info about this .qblast [here](https://www.ncbi.nlm.nih.gov/books/NBK25499/#chapter4.ESearch) and [here](http://biopython.org/DIST/docs/api/Bio.Entrez-module.html#esearch). \n",
    "\n",
    "Ok so the next part gets a little busy with a for loop and a with open loop that writes a file all at once! Lets take it step by step. This for loop is just grabbing the first alignment that is being returned from the search (assuming you only want the first alignment, you could change this to grab every alignment that the blast found if you really wanted). We then open a file called 'goat_human.tst' that writes to it the goat GI number, the human alignment GI number returned and the actual name of the gene. Then we take the human GI number and write that to a file (this becomes useful if you wanted to throw this into a Gene Ontology website like Panther to perform an analysis). Lastly we will close the blast_result_handle."
   ]
  },
  {
   "cell_type": "code",
   "execution_count": null,
   "metadata": {},
   "outputs": [],
   "source": [
    "## change your range before you run this!!!\n",
    "for h in header[0:10]:    \n",
    "    try:\n",
    "        print('blasting', h)\n",
    "        timestart = time.clock()   \n",
    "        blast_result_handle = NCBIWWW.qblast(program=\"blastx\",database=\"refseq_protein\",sequence= h,entrez_query= \"txid9606[ORGN]\")   \n",
    "        blast_records = NCBIXML.parse(blast_result_handle)\n",
    "    \n",
    "        blast_record = next(blast_records)\n",
    "        print (\"# alignments:\",len(blast_record.alignments))\n",
    "        for alignment in blast_record.alignments[0:1]:\n",
    "            with open('goat_human.tsv','a') as out:\n",
    "                out.write(\"{}\\t{}\\t{}\\n\".format(h,alignment.hit_id.split('|')[1],alignment.hit_def.split('>')[0]))\n",
    "            with open('human_id.txt','a') as out:\n",
    "                out.write(\"{}\\n\".format(alignment.hit_id.split('|')[1]))\n",
    "        blast_result_handle.close()\n",
    "        timestop = time.clock()\n",
    "        print (\"time\",timestop-timestart)\n",
    "        print('done')\n",
    "\n",
    "    except HTTPError as e:\n",
    "        time.sleep(500)\n",
    "        next"
   ]
  }
 ],
 "metadata": {
  "kernelspec": {
   "display_name": "Python 3",
   "language": "python",
   "name": "python3"
  },
  "language_info": {
   "codemirror_mode": {
    "name": "ipython",
    "version": 3
   },
   "file_extension": ".py",
   "mimetype": "text/x-python",
   "name": "python",
   "nbconvert_exporter": "python",
   "pygments_lexer": "ipython3",
   "version": "3.6.5"
  }
 },
 "nbformat": 4,
 "nbformat_minor": 2
}
