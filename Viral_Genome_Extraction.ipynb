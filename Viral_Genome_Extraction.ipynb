{
 "cells": [
  {
   "cell_type": "markdown",
   "metadata": {},
   "source": [
    "# VIRAL GENOME EXTRACTION USING URLLIB (PYTHON 3)\n",
    "This program uses a text file of Viral data to grab the genomes of the corresponding viruses. \n",
    "I found part of this pipeline on this [blog](http://www.cureffi.org/2013/01/25/aligning-unmapped-reads-to-viral-genomes/), but I modified it for the purpose of our group. We want to grab all the viral genomes and apply a machine learning approach to use the k-mers in the viral genomes to test a piece of software called VirFinder (or even to create our own version."
   ]
  },
  {
   "cell_type": "markdown",
   "metadata": {},
   "source": [
    "### First we need to import modules (we will only use 2)"
   ]
  },
  {
   "cell_type": "code",
   "execution_count": 2,
   "metadata": {},
   "outputs": [],
   "source": [
    "from urllib3.exceptions import HTTPError\n",
    "import urllib.request"
   ]
  },
  {
   "cell_type": "markdown",
   "metadata": {},
   "source": [
    "### Now we create lists to store all the info that we want\n",
    "I have split the list section into 4 parts: first we are gathering ALL the info from the text file.\n",
    "'virus' contains all the viruses from the text file. \n",
    "'bp_ID_accnum' contains all the bioproject IDs. \n",
    "'vt' contains all the virus types from the text file (ie ss RNA, ds DNA, RETRO). \n",
    "'v_size' contains all the virus sizes in kb. \n",
    "\n",
    "The next 2 parts contain the same type of information, however, in the 'yes' lists they contain the corresponding information that passed through the if statement and the try and except statement below. The 'no' lists, did not, and thus are saved to a different set of lists. \n",
    "\n",
    "Lastly, we have a 'csv' list that contains all the files with genomes of viruses that passed through the if statement and try and except statement."
   ]
  },
  {
   "cell_type": "code",
   "execution_count": 3,
   "metadata": {},
   "outputs": [],
   "source": [
    "virus = []\n",
    "bp_ID_accnum = []\n",
    "vt = []\n",
    "v_size = []\n",
    "\n",
    "yes_genome = []\n",
    "yes_v_size = []\n",
    "yes_vt = []\n",
    "\n",
    "no_genome = []\n",
    "no_v_size = []\n",
    "no_vt = []\n",
    "\n",
    "csv = []"
   ]
  },
  {
   "cell_type": "markdown",
   "metadata": {},
   "source": [
    "#### This is just a quick file opener. \n",
    "Inside this file opener, we have read in the lines, split the line on the tab, and appended the desired information to our lists above."
   ]
  },
  {
   "cell_type": "code",
   "execution_count": 4,
   "metadata": {},
   "outputs": [],
   "source": [
    "with open('small_virus.txt', 'r') as in_file:\n",
    "    for line in in_file.readlines()[1:]:\n",
    "        virus.append(line.split('\\t')[0])\n",
    "        bp_ID_accnum.append(line.split('\\t')[3])\n",
    "        vt.append(line.split('\\t')[4])\n",
    "        v_size.append(line.split('\\t')[6])"
   ]
  },
  {
   "cell_type": "code",
   "execution_count": 6,
   "metadata": {},
   "outputs": [
    {
     "name": "stdout",
     "output_type": "stream",
     "text": [
      "15425\n"
     ]
    }
   ],
   "source": [
    "for i in bp_ID_accnum[0:1]:\n",
    "    print(i)"
   ]
  },
  {
   "cell_type": "markdown",
   "metadata": {},
   "source": [
    "###  This for loop looks a little busy, but it can be broken down pretty simply\n",
    "First, we say for each accession number in the list, enumerate you, and if your integer value is greater than 1, try. The reason we need to use this logic is because if the accession number is less than 1 the NCBI throws an error which messes up the down stream analysis. So if the accession number is NOT greater than zero, go to the 'Else' seciton and append it to the 'no' lists. It is important to note that I am using a facny little enumerate trick to index the other lists with the enumerated number and pull the information from that list at that position and append it to another list. I have found this trick to be extremely useful. \n",
    "\n",
    "So lets talk about the 'try.' First, we split the line to take off the '\\n' with the .strip. We then set the url with the inserted bioprojectID inside it. We use the conn and the urllib.request to open up our url. We set the nuccoreID to the last element in the url after it is split on the '/'. If you are curious, before we split the url it looks like this [https://www.ncbi.nlm.nih.gov/nuccore/38707888](https://www.ncbi.nlm.nih.gov/nuccore/38707888), so the nuccoreID is the '38707888'. The next variable is the nuccoreUrl, and our nuccoreId is inserted into this url and connect to it. This part is cool because we can use a very simple function to save everything this url has with the .read() function. We save all the info (which should be the whole genome at this point that corresponds to that nuccoreID) and write a little fasta file, saved in the 'outpath' variable. To finish up this block of code we append our info to the lists of desire. \n",
    "\n",
    "The 'except' portion of this code is just so that if there is an HTTPError, we will be notified and the program will move on. \n",
    "\n",
    "Lastly, we will appened all the info that didnt make it into the 'try' block of code to our lists of desire. We will do more with this data later. "
   ]
  },
  {
   "cell_type": "code",
   "execution_count": 1,
   "metadata": {},
   "outputs": [
    {
     "ename": "NameError",
     "evalue": "name 'bp_ID_accnum' is not defined",
     "output_type": "error",
     "traceback": [
      "\u001b[0;31m---------------------------------------------------------------------------\u001b[0m",
      "\u001b[0;31mNameError\u001b[0m                                 Traceback (most recent call last)",
      "\u001b[0;32m<ipython-input-1-fddbe106c80d>\u001b[0m in \u001b[0;36m<module>\u001b[0;34m()\u001b[0m\n\u001b[1;32m      1\u001b[0m \u001b[0;31m## i is the enumerate, j is the actual entry from the list\u001b[0m\u001b[0;34m\u001b[0m\u001b[0;34m\u001b[0m\u001b[0m\n\u001b[1;32m      2\u001b[0m \u001b[0;31m## we will use i to index the other lists\u001b[0m\u001b[0;34m\u001b[0m\u001b[0;34m\u001b[0m\u001b[0m\n\u001b[0;32m----> 3\u001b[0;31m \u001b[0;32mfor\u001b[0m \u001b[0mi\u001b[0m\u001b[0;34m,\u001b[0m \u001b[0mj\u001b[0m \u001b[0;32min\u001b[0m \u001b[0menumerate\u001b[0m\u001b[0;34m(\u001b[0m\u001b[0mbp_ID_accnum\u001b[0m\u001b[0;34m)\u001b[0m\u001b[0;34m:\u001b[0m\u001b[0;34m\u001b[0m\u001b[0m\n\u001b[0m\u001b[1;32m      4\u001b[0m     \u001b[0mprint\u001b[0m\u001b[0;34m(\u001b[0m\u001b[0mbp_ID_accnum\u001b[0m\u001b[0;34m)\u001b[0m\u001b[0;34m\u001b[0m\u001b[0m\n\u001b[1;32m      5\u001b[0m     \u001b[0;31m## this step is need to catch nuccore numbers that throw an error downstream ##\u001b[0m\u001b[0;34m\u001b[0m\u001b[0;34m\u001b[0m\u001b[0m\n",
      "\u001b[0;31mNameError\u001b[0m: name 'bp_ID_accnum' is not defined"
     ]
    }
   ],
   "source": [
    "## i is the enumerate, j is the actual entry from the list\n",
    "## we will use i to index the other lists\n",
    "for i, j in enumerate(bp_ID_accnum):\n",
    "    print(bp_ID_accnum)\n",
    "    ## this step is need to catch nuccore numbers that throw an error downstream ##\n",
    "    if int(j) > 0:\n",
    "        try:\n",
    "            ## remove newline\n",
    "            bioprojectId = j.strip()\n",
    "            #print(virus[i])\n",
    "            ## create URL to get redirected\n",
    "            bioprojectUrl = \"http://www.ncbi.nlm.nih.gov/sites/nuccore?term=\"+bioprojectId+\"[BioProject]\"\n",
    "            #print(bioprojectUrl)\n",
    "            ## open URL\n",
    "            conn = urllib.request.urlopen(bioprojectUrl) \n",
    "            ## retrieve nuccore ID from redirected URL\n",
    "            nuccoreId = conn.url.split(\"/\")[-1]\n",
    "            conn.close() \n",
    "            ## create URL for FASTA file\n",
    "            nuccoreUrl = \"http://eutils.ncbi.nlm.nih.gov/entrez/eutils/efetch.fcgi?db=nuccore&id=\"+nuccoreId+\"&rettype=fasta\" \n",
    "            ## open URL\n",
    "            conn = urllib.request.urlopen(nuccoreUrl) \n",
    "            ## get FASTA text\n",
    "            fasta = conn.read() \n",
    "            ## close URL\n",
    "            conn.close() \n",
    "            ## create file path to write FASTA\n",
    "            outpath = nuccoreId + \".fa\"\n",
    "            \n",
    "            \n",
    "            csv.append(outpath)\n",
    "            yes_genome.append(virus[i])\n",
    "            yes_v_size.append(v_size[i])\n",
    "            yes_vt.append(vt[i])\n",
    "            \n",
    "            \n",
    "            # auto-close file after done\n",
    "            with open(outpath,\"wb\") as o: \n",
    "                o.write(fasta)\n",
    "        except HTTPError as e:\n",
    "            print(\"Unable to retrieve genome for bioproject \" + bioprojectId)\n",
    "    else:\n",
    "        ## lets turn this into a csv just like the 'found' genomes csv\n",
    "        no_genome.append(virus[i])\n",
    "        no_v_size.append(v_size[i])\n",
    "        no_vt.append(vt[i])\n",
    "            "
   ]
  },
  {
   "cell_type": "markdown",
   "metadata": {},
   "source": [
    "#### We are just closing the file"
   ]
  },
  {
   "cell_type": "code",
   "execution_count": null,
   "metadata": {},
   "outputs": [],
   "source": [
    "in_file.close()"
   ]
  },
  {
   "cell_type": "markdown",
   "metadata": {},
   "source": [
    "#### This little block is going to write all the viruses that were collected with their name, genome size, type, and their file containing its genome written above\n",
    "I thought it would be useful to write a file with the genome, size of the genome, type of virus, and the corresponding fasta file for the viral genome to a master csv file. \n",
    "\n",
    "This zip file is quite nice, it makes a tuple of lists. I have found this function to be extremely useful as well."
   ]
  },
  {
   "cell_type": "code",
   "execution_count": null,
   "metadata": {},
   "outputs": [],
   "source": [
    "lines = zip(yes_genome,yes_v_size,yes_vt,csv)"
   ]
  },
  {
   "cell_type": "code",
   "execution_count": null,
   "metadata": {},
   "outputs": [],
   "source": [
    "with open('virus_files.csv', 'w') as out:\n",
    "    for i,j in enumerate(lines):   \n",
    "        out.write(\"{},{},{},{},{}\\n\".format( i+1, j[0], j[1], j[2], j[3]))"
   ]
  },
  {
   "cell_type": "markdown",
   "metadata": {},
   "source": [
    "### Now we write a file for the viruses we did NOT collect, ie that gave us an error in our try and execpt statement above."
   ]
  },
  {
   "cell_type": "code",
   "execution_count": null,
   "metadata": {},
   "outputs": [],
   "source": [
    "lines = zip(no_genome,no_v_size,no_vt)"
   ]
  },
  {
   "cell_type": "code",
   "execution_count": 12,
   "metadata": {},
   "outputs": [],
   "source": [
    "for i, j in enumerate(lines):\n",
    "    with open('unblasted.txt', 'w') as out:\n",
    "        out.write(\"{},{},{},{}\\n\".format( i+1, j[0], j[1], j[2]))"
   ]
  }
 ],
 "metadata": {
  "kernelspec": {
   "display_name": "Python 3",
   "language": "python",
   "name": "python3"
  },
  "language_info": {
   "codemirror_mode": {
    "name": "ipython",
    "version": 3
   },
   "file_extension": ".py",
   "mimetype": "text/x-python",
   "name": "python",
   "nbconvert_exporter": "python",
   "pygments_lexer": "ipython3",
   "version": "3.6.5"
  }
 },
 "nbformat": 4,
 "nbformat_minor": 2
}
