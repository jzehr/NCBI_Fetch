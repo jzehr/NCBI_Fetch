{
 "cells": [
  {
   "cell_type": "markdown",
   "metadata": {},
   "source": [
    "# This script will extract human genes associated with a disease by pulling them from NCBI"
   ]
  },
  {
   "cell_type": "markdown",
   "metadata": {},
   "source": [
    "###  The script will ask you to input a disease, such as type ll diabetes, and will return all the genes associated with that disease.\n",
    "Furthermore, this script will write to a file that will contain all the coding regions from the genes you have collected from NCBI.\n",
    "\n",
    "Again, if there is a variable that does not make sense, utilize a print statement and see what you can figure out. "
   ]
  },
  {
   "cell_type": "markdown",
   "metadata": {},
   "source": [
    "#### First we will need our imports"
   ]
  },
  {
   "cell_type": "code",
   "execution_count": 2,
   "metadata": {},
   "outputs": [],
   "source": [
    "import csv\n",
    "from Bio import SeqIO \n",
    "from Bio import Entrez\n",
    "from collections import Counter"
   ]
  },
  {
   "cell_type": "markdown",
   "metadata": {},
   "source": [
    "#### Next, the Entrez module requries an email, and its appropriate to use a working email"
   ]
  },
  {
   "cell_type": "code",
   "execution_count": 3,
   "metadata": {},
   "outputs": [
    {
     "name": "stdout",
     "output_type": "stream",
     "text": [
      "Enter your email: tuh21796@temple.edu\n"
     ]
    }
   ],
   "source": [
    "email = input('Enter your email: ')"
   ]
  },
  {
   "cell_type": "markdown",
   "metadata": {},
   "source": [
    "#### This block doesnt run properly yet, so I need to fix this. The point is to handle an error if the user does not input a proper email, but then I need it to re-run the 'input code' to collect another email"
   ]
  },
  {
   "cell_type": "code",
   "execution_count": 11,
   "metadata": {},
   "outputs": [
    {
     "name": "stdout",
     "output_type": "stream",
     "text": [
      "What human disease would you like to find genes for? cancer\n"
     ]
    }
   ],
   "source": [
    "term = input('What human disease would you like to find genes for? ')"
   ]
  },
  {
   "cell_type": "code",
   "execution_count": 12,
   "metadata": {},
   "outputs": [],
   "source": [
    "Entrez.email = str(email)"
   ]
  },
  {
   "cell_type": "markdown",
   "metadata": {},
   "source": [
    "#### Lets break down this block a little bit \n",
    "We call the esearch function by saying Entrez.esearch, and we are saying the database we want to use is 'nucleotide', we want to retrieve 5 results, and the term (disease) we are searching for is (disease) AND humans AND CDS[feature key] (not exactly sure what this part is)\n",
    "We then want to save the results as a dicitonary by using the Entrez.read function\n",
    "Lastly we close the result handle."
   ]
  },
  {
   "cell_type": "markdown",
   "metadata": {},
   "source": [
    "#### so I am stuck here and I cant seem to figure out how to get this input disease term be searched on ncbi.. "
   ]
  },
  {
   "cell_type": "code",
   "execution_count": 13,
   "metadata": {},
   "outputs": [],
   "source": [
    "resulthandle = Entrez.esearch(db=\"nucleotide\", retmax=5, term= \"\"\"(((\"%s\")) AND \"Homo sapiens\"[Organism] AND CDS[Feature key])\"\"\" % (term))\n",
    "ereaddic = Entrez.read(resulthandle)  \n",
    "resulthandle.close()"
   ]
  },
  {
   "cell_type": "code",
   "execution_count": 18,
   "metadata": {},
   "outputs": [],
   "source": [
    "#print(ereaddic)"
   ]
  },
  {
   "cell_type": "code",
   "execution_count": null,
   "metadata": {},
   "outputs": [],
   "source": [
    "fetchhandle = Entrez.efetch(db=\"nucleotide\", id=ereaddic[\"IdList\"], rettype=\"gb\")\n",
    "records = list(SeqIO.parse(fetchhandle, \"genbank\"))"
   ]
  },
  {
   "cell_type": "markdown",
   "metadata": {},
   "source": [
    "####  Lets unpack this class a little bit, because this was a bit tricky to write as this was the first time I wrote a class \n",
    "As you can see I was extremely creative with the name of the class... its whats on the inside that counts.\n",
    "Our first function initializes itself, and says 'self, set yourself = to seq_record'\n",
    "Our next function gets a Counter of the 'seq' after we call . translate on that seq.\n",
    "The final function goes through the information returned from the seq_record.features and if the type is \"CDS\", then grab that. We are able to use this logic because of the lamba function which can be very useful if you know how to use them. Essentially it allows us to filter all the information from the features in seq_record and return only what we want. Lastly, we say if you are a cds, extract the desired information that is stored in your zeroth position."
   ]
  },
  {
   "cell_type": "code",
   "execution_count": null,
   "metadata": {},
   "outputs": [],
   "source": [
    "class new_class:\n",
    "    def __init__(self, seq_record):\n",
    "        self.seq_record = seq_record\n",
    "    \n",
    "    \n",
    "    def get_amino_count(self):\n",
    "            return Counter(self.seq_record.seq.translate())\n",
    "        \n",
    "    def code_region (self):  \n",
    "        cds = list(filter(lambda x : x.type == \"CDS\", self.seq_record.features))\n",
    "        if cds:\n",
    "            return cds[0].extract(self.seq_record.seq)"
   ]
  },
  {
   "cell_type": "code",
   "execution_count": null,
   "metadata": {},
   "outputs": [],
   "source": [
    "temp_records = [new_class(rec) for rec in records]\n",
    "aa_counts = [(temp_record.seq_record.id, temp_record.get_amino_count()) for temp_record in temp_records]"
   ]
  },
  {
   "cell_type": "code",
   "execution_count": null,
   "metadata": {},
   "outputs": [],
   "source": [
    "temp_cds_reg = [new_class(c) for c in records]\n",
    "cds = [(temp_cds.seq_record.id, temp_cds.code_region()) for temp_cds in temp_cds_reg]"
   ]
  },
  {
   "cell_type": "markdown",
   "metadata": {},
   "source": [
    "#### The below writing block will write a csv file that contains all the counts of the amino acids for each gene that was returned.\n",
    "This is a cool little dictionary writer, but at first blush it is a little overwhelming. \n",
    "\n",
    "So, we set the variable writer to the csv DictWriter which takes an input of our csvfile and the fieldnames. The field name section is pretty nice because you can create an order for your data (I did not, I just made sure all my characters were accounted for), and remember these letters represent amino acids.\n",
    "\n",
    "With our for loop, we say for each counter in aa_counts (and remember there should be 5 total counters in our list because we set retmax to 5) we make the 1st position a dictionary (again, remember in python starts indexing at 0). So then we use the .update function to add 'id' to the zeroth position of our dictionary. At this point, we have a dictionary with 'id' as the key, and a dictionary as the value... this seems a little confusing but throw some print statements in this function if you need a little more visual clarity. We then write the updated dictionary to a file. \n",
    "\n",
    "I need to work on this a little more to error gracefully. "
   ]
  },
  {
   "cell_type": "code",
   "execution_count": 17,
   "metadata": {},
   "outputs": [
    {
     "ename": "NameError",
     "evalue": "name 'aa_counts' is not defined",
     "output_type": "error",
     "traceback": [
      "\u001b[0;31m---------------------------------------------------------------------------\u001b[0m",
      "\u001b[0;31mNameError\u001b[0m                                 Traceback (most recent call last)",
      "\u001b[0;32m<ipython-input-17-0077322d7bf3>\u001b[0m in \u001b[0;36m<module>\u001b[0;34m()\u001b[0m\n\u001b[1;32m      2\u001b[0m     \u001b[0mwriter\u001b[0m \u001b[0;34m=\u001b[0m \u001b[0mcsv\u001b[0m\u001b[0;34m.\u001b[0m\u001b[0mDictWriter\u001b[0m\u001b[0;34m(\u001b[0m\u001b[0mcsvfile\u001b[0m\u001b[0;34m,\u001b[0m \u001b[0mfieldnames\u001b[0m\u001b[0;34m=\u001b[0m\u001b[0;34m[\u001b[0m\u001b[0;34m\"id\"\u001b[0m\u001b[0;34m,\u001b[0m\u001b[0;34m\"G\"\u001b[0m\u001b[0;34m,\u001b[0m\u001b[0;34m\"A\"\u001b[0m\u001b[0;34m,\u001b[0m\u001b[0;34m\"P\"\u001b[0m\u001b[0;34m,\u001b[0m\u001b[0;34m\"M\"\u001b[0m\u001b[0;34m,\u001b[0m\u001b[0;34m\"F\"\u001b[0m\u001b[0;34m,\u001b[0m\u001b[0;34m\"I\"\u001b[0m\u001b[0;34m,\u001b[0m\u001b[0;34m\"K\"\u001b[0m\u001b[0;34m,\u001b[0m\u001b[0;34m\"H\"\u001b[0m\u001b[0;34m,\u001b[0m\u001b[0;34m\"L\"\u001b[0m\u001b[0;34m,\u001b[0m\u001b[0;34m\"W\"\u001b[0m\u001b[0;34m,\u001b[0m\u001b[0;34m\"N\"\u001b[0m\u001b[0;34m,\u001b[0m\u001b[0;34m\"E\"\u001b[0m\u001b[0;34m,\u001b[0m\u001b[0;34m\"Y\"\u001b[0m\u001b[0;34m,\u001b[0m\u001b[0;34m\"*\"\u001b[0m\u001b[0;34m,\u001b[0m\u001b[0;34m\"T\"\u001b[0m\u001b[0;34m,\u001b[0m\u001b[0;34m\"C\"\u001b[0m\u001b[0;34m,\u001b[0m\u001b[0;34m\"S\"\u001b[0m\u001b[0;34m,\u001b[0m\u001b[0;34m\"D\"\u001b[0m\u001b[0;34m,\u001b[0m\u001b[0;34m\"V\"\u001b[0m\u001b[0;34m,\u001b[0m\u001b[0;34m\"Q\"\u001b[0m\u001b[0;34m,\u001b[0m\u001b[0;34m\"R\"\u001b[0m\u001b[0;34m]\u001b[0m\u001b[0;34m)\u001b[0m\u001b[0;34m\u001b[0m\u001b[0m\n\u001b[1;32m      3\u001b[0m     \u001b[0mwriter\u001b[0m\u001b[0;34m.\u001b[0m\u001b[0mwriteheader\u001b[0m\u001b[0;34m(\u001b[0m\u001b[0;34m)\u001b[0m\u001b[0;34m\u001b[0m\u001b[0m\n\u001b[0;32m----> 4\u001b[0;31m     \u001b[0;32mfor\u001b[0m \u001b[0mj\u001b[0m \u001b[0;32min\u001b[0m \u001b[0maa_counts\u001b[0m\u001b[0;34m:\u001b[0m\u001b[0;34m\u001b[0m\u001b[0m\n\u001b[0m\u001b[1;32m      5\u001b[0m         \u001b[0mwriter1\u001b[0m \u001b[0;34m=\u001b[0m \u001b[0mdict\u001b[0m\u001b[0;34m(\u001b[0m\u001b[0mj\u001b[0m\u001b[0;34m[\u001b[0m\u001b[0;36m1\u001b[0m\u001b[0;34m]\u001b[0m\u001b[0;34m)\u001b[0m\u001b[0;34m\u001b[0m\u001b[0m\n\u001b[1;32m      6\u001b[0m         \u001b[0mwriter1\u001b[0m\u001b[0;34m.\u001b[0m\u001b[0mupdate\u001b[0m\u001b[0;34m(\u001b[0m\u001b[0;34m{\u001b[0m\u001b[0;34m\"id\"\u001b[0m\u001b[0;34m:\u001b[0m\u001b[0mj\u001b[0m\u001b[0;34m[\u001b[0m\u001b[0;36m0\u001b[0m\u001b[0;34m]\u001b[0m\u001b[0;34m}\u001b[0m\u001b[0;34m)\u001b[0m\u001b[0;34m\u001b[0m\u001b[0m\n",
      "\u001b[0;31mNameError\u001b[0m: name 'aa_counts' is not defined"
     ]
    }
   ],
   "source": [
    "with open('amino_acid.csv','w') as csvfile:\n",
    "    writer = csv.DictWriter(csvfile, fieldnames=[\"id\",\"G\",\"A\",\"P\",\"M\",\"F\",\"I\",\"K\",\"H\",\"L\",\"W\",\"N\",\"E\",\"Y\",\"*\",\"T\",\"C\",\"S\",\"D\",\"V\",\"Q\",\"R\"])\n",
    "    writer.writeheader()\n",
    "    for j in aa_counts:\n",
    "        writer1 = dict(j[1])\n",
    "        writer1.update({\"id\":j[0]})\n",
    "        writer.writerow(writer1)"
   ]
  },
  {
   "cell_type": "markdown",
   "metadata": {},
   "source": [
    "#### This neat little block will grab the sequences ids and the sequences from our records list and append the info to our new lists.\n",
    "We will use this info later."
   ]
  },
  {
   "cell_type": "code",
   "execution_count": null,
   "metadata": {},
   "outputs": [],
   "source": [
    "seq_ids = [record.id for record in records] \n",
    "seqs = [record.seq for record in records]"
   ]
  },
  {
   "cell_type": "markdown",
   "metadata": {},
   "source": [
    "#### This is just a quick little for loop that will collect all the coding regions in the sequences "
   ]
  },
  {
   "cell_type": "code",
   "execution_count": null,
   "metadata": {},
   "outputs": [],
   "source": [
    "cds_list = []\n",
    "for c in cds:\n",
    "    cds_list.append(c[1])\n"
   ]
  },
  {
   "cell_type": "markdown",
   "metadata": {},
   "source": [
    "#### This fancy little trick turns your 3 lists in a tuple where the entries in the tuple are: [(seq_id_1, seq_1, cds_list_1), (seq_id_2, seq_2, cds_list_2), (etc)]\n",
    "I have found this 'zip' function to come in extremely handy especially when I have to write outputs to tsv files with headers. "
   ]
  },
  {
   "cell_type": "code",
   "execution_count": null,
   "metadata": {},
   "outputs": [],
   "source": [
    "lines = zip(seq_ids, seqs, cds_list)"
   ]
  },
  {
   "cell_type": "markdown",
   "metadata": {},
   "source": [
    "#### We are going to use this block to write a file that will contain our sequence ids, sequences, and coding regions of our sequences.\n",
    "Again, I have used the enumerate function to insert a tab in between elements in this file."
   ]
  },
  {
   "cell_type": "code",
   "execution_count": null,
   "metadata": {},
   "outputs": [],
   "source": [
    "with open('db_data.tsv', 'w') as out:\n",
    "    for i, line in enumerate(lines):\n",
    "        out.write(\"{}\\t{}\\t{}\\t{}\\n\".format(i+1, line[0], line[1], line[2]))"
   ]
  },
  {
   "cell_type": "markdown",
   "metadata": {},
   "source": [
    "#### This next block of code will write a fasta file for all the coding regions of the genes returned from the search\n",
    "    First we have to add a '>' to the beginning of each element in the list of sequence ids which will allow us to visualize the information exactly like a fasta file. Each element in the new list now looks like this: '>NM_001321858.1'. The new list is called fa_seq_ids, and this little trick comes in very handy. We then return to our beloved zip function, and finally write align_me in fasta format that is ready to be put into an alignment viewer."
   ]
  },
  {
   "cell_type": "code",
   "execution_count": null,
   "metadata": {},
   "outputs": [],
   "source": [
    "fa_seq_ids = ['>' + i for i in seq_ids] \n",
    "lines = zip (fa_seq_ids, cds_list)"
   ]
  },
  {
   "cell_type": "code",
   "execution_count": null,
   "metadata": {},
   "outputs": [],
   "source": [
    "with open('align_me.fa', 'w') as out:\n",
    "    for line in lines:\n",
    "        out.write(\"{}\\t{}\\n\".format(line[0], line[1]))"
   ]
  }
 ],
 "metadata": {
  "kernelspec": {
   "display_name": "Python 3",
   "language": "python",
   "name": "python3"
  },
  "language_info": {
   "codemirror_mode": {
    "name": "ipython",
    "version": 3
   },
   "file_extension": ".py",
   "mimetype": "text/x-python",
   "name": "python",
   "nbconvert_exporter": "python",
   "pygments_lexer": "ipython3",
   "version": "3.6.5"
  }
 },
 "nbformat": 4,
 "nbformat_minor": 2
}
