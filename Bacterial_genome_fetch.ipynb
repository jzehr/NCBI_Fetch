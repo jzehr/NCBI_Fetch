{
 "cells": [
  {
   "cell_type": "code",
   "execution_count": 32,
   "metadata": {},
   "outputs": [],
   "source": [
    "from Bio import SeqIO\n",
    "from Bio import Entrez\n",
    "import time\n",
    "from urllib3.exceptions import HTTPError"
   ]
  },
  {
   "cell_type": "code",
   "execution_count": null,
   "metadata": {},
   "outputs": [],
   "source": [
    "Entrez.email = 'tuh21796@temple.edu'\n",
    "#E.coli (Escherichia coli)\n",
    "#bacteria[orgn]\n",
    "#Pseudomonas\n",
    "handle = Entrez.esearch(db=\"nucleotide\", retmax=1000, term= \"Escherichia coli[orgn] AND complete genome[title]\")\n",
    "genome_id = Entrez.read(handle)['IdList']\n",
    "for i in genome_id:\n",
    "    with open('e_genomes.fa','a') as out:\n",
    "        record = Entrez.efetch(db='nucleotide', id= i, rettype='fasta', retmode='text')\n",
    "        fasta = record.read()\n",
    "        out.write(fasta)"
   ]
  },
  {
   "cell_type": "code",
   "execution_count": null,
   "metadata": {},
   "outputs": [],
   "source": []
  }
 ],
 "metadata": {
  "kernelspec": {
   "display_name": "Python 3",
   "language": "python",
   "name": "python3"
  },
  "language_info": {
   "codemirror_mode": {
    "name": "ipython",
    "version": 3
   },
   "file_extension": ".py",
   "mimetype": "text/x-python",
   "name": "python",
   "nbconvert_exporter": "python",
   "pygments_lexer": "ipython3",
   "version": "3.6.5"
  }
 },
 "nbformat": 4,
 "nbformat_minor": 2
}
